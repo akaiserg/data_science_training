{
 "cells": [
  {
   "cell_type": "code",
   "execution_count": 4,
   "metadata": {},
   "outputs": [],
   "source": [
    "import numpy as np  #multidimensinal arrays\n",
    "import pandas as pd # organizes data in a tabular form, with labels to rows and colums\n",
    "import scipy # for mathematics  ML, engineering etc\n",
    "import statsmodels.api as sm # built on top of NumPy, very  good summaries\n",
    "import matplotlib as plt # 2d  plotting library specially  for NumPy  computations\n",
    "import seaborn as sns # better plots  base in matplotlib\n",
    "import sklearn # machine learning libriry"
   ]
  }
 ],
 "metadata": {
  "kernelspec": {
   "display_name": "Python 3",
   "language": "python",
   "name": "python3"
  },
  "language_info": {
   "codemirror_mode": {
    "name": "ipython",
    "version": 3
   },
   "file_extension": ".py",
   "mimetype": "text/x-python",
   "name": "python",
   "nbconvert_exporter": "python",
   "pygments_lexer": "ipython3",
   "version": "3.7.1"
  }
 },
 "nbformat": 4,
 "nbformat_minor": 2
}
